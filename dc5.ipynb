<a href="https://colab.research.google.com/github/keliwu5/hello-git/blob/master/dc5.ipynb" target="_parent">
  <img src="https://colab.research.google.com/assets/colab-badge.svg" alt="Open In Colab"/>
</a>

{
  "nbformat": 4,
  "nbformat_minor": 0,
  "metadata": {
    "colab": {
      "name": "20201023作業Ｖ1.ipynb",
      "provenance": []
    },
    "kernelspec": {
      "name": "python3",
      "display_name": "Python 3"
    }
  },
  "cells": [
    {
      "cell_type": "code",
      "metadata": {
        "id": "DOliptk13E4K"
      },
      "source": [
        "import pandas as pd"
      ],
      "execution_count": 116,
      "outputs": []
    },
    {
      "cell_type": "code",
      "metadata": {
        "id": "8o4gZ1g73X3h"
      },
      "source": [
        "import pandas_datareader.data as web"
      ],
      "execution_count": 117,
      "outputs": []
    },
    {
      "cell_type": "code",
      "metadata": {
        "id": "37bOTcQu3gPx"
      },
      "source": [
        "url = 'http://www.yuantaetfs.com/api/StkWeights?date=&fundid=1066'  # 0050成份股網頁"
      ],
      "execution_count": 118,
      "outputs": []
    },
    {
      "cell_type": "code",
      "metadata": {
        "id": "8AbFXPg53sD1"
      },
      "source": [
        "dfs = pd.read_json(url)"
      ],
      "execution_count": 119,
      "outputs": []
    },
    {
      "cell_type": "code",
      "metadata": {
        "id": "Sga5WqFr-W00"
      },
      "source": [
        "stock_ret = {}"
      ],
      "execution_count": 121,
      "outputs": []
    },
    {
      "cell_type": "code",
      "metadata": {
        "id": "JHK34FMlAi4d"
      },
      "source": [
        "def roe_cal(stock_no):\n",
        "    url = f'http://jsjustweb.jihsun.com.tw/z/zc/zcr/zcr0.djhtm?b=Y&a={stock_no}'\n",
        "    dfs = pd.read_html(url)\n",
        "    df = dfs[2]\n",
        "    try:\n",
        "      roe = df[df[0]==\"ROE(B)-常續利益\"].iloc[0][1:].astype(float)\n",
        "    except:\n",
        "      roe = df[df[0]==\"ROE(B)─常續利益\"].iloc[0][1:].astype(float)\n",
        "    return (roe[:5]>15).sum()\n"
      ],
      "execution_count": 127,
      "outputs": []
    },
    {
      "cell_type": "code",
      "metadata": {
        "id": "TyXnzpwW5vm-",
        "outputId": "e0e49683-0d38-432b-f97d-df6fdc605ad0",
        "colab": {
          "base_uri": "https://localhost:8080/",
          "height": 867
        }
      },
      "source": [
        "for x in dfs['code']:\n",
        "  stock_info = web.DataReader(str(x)+'.tw','yahoo','2019-01-01','2019-12-31')\n",
        "  stock[x] = stock_info\n",
        "  dfs1 = dfs[['code','name']]\n",
        "  dfs1.set_index('code',inplace=True)\n",
        "  stock_name = dfs1.at[x,'name']\n",
        "  stock_ret = stock_info['Adj Close'][-1]/stock_info['Adj Close'][0]\n",
        "  stock_roe = roe_cal(x)\n",
        "  #if stock_roe > 5:\n",
        "  print(f'{x} ==> {stock_name} ==> {stock_ret} ==> {stock_roe}')\n",
        "\n"
      ],
      "execution_count": 146,
      "outputs": [
        {
          "output_type": "stream",
          "text": [
            "2330 ==> 台積電 ==> 1.5813693902932955 ==> 5\n",
            "2454 ==> 聯發科 ==> 2.0693571885932758 ==> 0\n",
            "2317 ==> 鴻海 ==> 1.3623191684959706 ==> 0\n",
            "2308 ==> 台達電 ==> 1.2312708186492163 ==> 1\n",
            "2412 ==> 中華電 ==> 1.0708623095392875 ==> 0\n",
            "1301 ==> 台塑 ==> 1.0768517630094903 ==> 1\n",
            "2303 ==> 聯電 ==> 1.5430723655653331 ==> 0\n",
            "1303 ==> 南亞 ==> 1.0652862814012984 ==> 1\n",
            "2891 ==> 中信金 ==> 1.1802702387480124 ==> 0\n",
            "3008 ==> 大立光 ==> 1.6631729203524428 ==> 5\n",
            "2882 ==> 國泰金 ==> 0.9649134489769591 ==> 0\n",
            "2881 ==> 富邦金 ==> 1.0521543070144093 ==> 1\n",
            "2886 ==> 兆豐金 ==> 1.3454258282768943 ==> 0\n",
            "1216 ==> 統一 ==> 1.1210700547495605 ==> 1\n",
            "2884 ==> 玉山金 ==> 1.525293924597394 ==> 0\n",
            "2002 ==> 中鋼 ==> 1.0373263313023666 ==> 0\n",
            "1326 ==> 台化 ==> 0.9300542207070079 ==> 0\n",
            "3711 ==> 日月光投控 ==> 1.5279789493664935 ==> 0\n",
            "2885 ==> 元大金 ==> 1.3952105954380658 ==> 0\n",
            "2892 ==> 第一金 ==> 1.3212155769950251 ==> 0\n",
            "1101 ==> 台泥 ==> 1.432574033063595 ==> 0\n",
            "2207 ==> 和泰車 ==> 2.834311555240226 ==> 5\n",
            "2382 ==> 廣達 ==> 1.3097698006733989 ==> 0\n",
            "5880 ==> 合庫金 ==> 1.2614184117011267 ==> 0\n",
            "5871 ==> 中租-KY ==> 1.4921263573997363 ==> 5\n",
            "2357 ==> 華碩 ==> 1.2162275500096975 ==> 0\n",
            "2379 ==> 瑞昱 ==> 1.7652581954607867 ==> 3\n",
            "2880 ==> 華南金 ==> 1.369893526295387 ==> 0\n",
            "2327 ==> 國巨 ==> 1.6789464957473001 ==> 3\n",
            "3045 ==> 台灣大 ==> 1.0966062981072067 ==> 5\n",
            "2912 ==> 統一超 ==> 1.0415514925527942 ==> 4\n",
            "2474 ==> 可成 ==> 1.0491896677203585 ==> 4\n",
            "2887 ==> 台新金 ==> 1.1715371477088736 ==> 0\n",
            "5876 ==> 上海商銀 ==> 1.372448631255622 ==> 0\n",
            "4938 ==> 和碩 ==> 1.4534114041041828 ==> 1\n",
            "2395 ==> 研華 ==> 1.4690980944848784 ==> 5\n",
            "2883 ==> 開發金 ==> 1.0379423288679113 ==> 0\n",
            "2890 ==> 永豐金 ==> 1.3466714924954069 ==> 0\n",
            "2801 ==> 彰銀 ==> 1.3850092340603002 ==> 0\n",
            "6415 ==> 矽力-KY ==> 2.0704018538313655 ==> 5\n",
            "6505 ==> 台塑化 ==> 0.9865640327885926 ==> 4\n",
            "1402 ==> 遠東新 ==> 1.1238443378069165 ==> 0\n",
            "2301 ==> 光寶科 ==> 1.294260786396386 ==> 0\n",
            "4904 ==> 遠傳 ==> 1.0475443601409697 ==> 3\n",
            "1102 ==> 亞泥 ==> 1.418639161527545 ==> 0\n",
            "9910 ==> 豐泰 ==> 1.1807206109606418 ==> 5\n",
            "2105 ==> 正新 ==> 1.0689048902993414 ==> 1\n",
            "2633 ==> 台灣高鐵 ==> 1.3051661653568012 ==> 2\n",
            "6669 ==> 緯穎 ==> 2.3701908338038815 ==> 5\n",
            "2408 ==> 南亞科 ==> 1.701975659693805 ==> 3\n"
          ],
          "name": "stdout"
        }
      ]
    },
    {
      "cell_type": "code",
      "metadata": {
        "id": "598QiLDg95YL"
      },
      "source": [
        ""
      ],
      "execution_count": 44,
      "outputs": []
    }
  ]
}
