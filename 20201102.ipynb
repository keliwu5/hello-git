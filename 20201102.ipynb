{
  "nbformat": 4,
  "nbformat_minor": 0,
  "metadata": {
    "colab": {
      "name": "20201102.ipynb",
      "provenance": [],
      "collapsed_sections": [],
      "authorship_tag": "ABX9TyNo1Fmm5A12Lp2TPWBrx0Bg",
      "include_colab_link": true
    },
    "kernelspec": {
      "name": "python3",
      "display_name": "Python 3"
    }
  },
  "cells": [
    {
      "cell_type": "markdown",
      "metadata": {
        "id": "view-in-github",
        "colab_type": "text"
      },
      "source": [
        "<a href=\"https://colab.research.google.com/github/keliwu5/hello-git/blob/master/20201102.ipynb\" target=\"_parent\"><img src=\"https://colab.research.google.com/assets/colab-badge.svg\" alt=\"Open In Colab\"/></a>"
      ]
    },
    {
      "cell_type": "code",
      "metadata": {
        "id": "BHkahPNu5EeK"
      },
      "source": [
        "import pandas as pd"
      ],
      "execution_count": 1,
      "outputs": []
    },
    {
      "cell_type": "code",
      "metadata": {
        "id": "Cf_5MEH1HWo5"
      },
      "source": [
        "import pandas_datareader.data as web"
      ],
      "execution_count": 2,
      "outputs": []
    },
    {
      "cell_type": "code",
      "metadata": {
        "id": "GEMAlnBqHo_J"
      },
      "source": [
        "stock_df = web.DataReader('0050.tw', 'yahoo', '2020-01-01')"
      ],
      "execution_count": 6,
      "outputs": []
    },
    {
      "cell_type": "code",
      "metadata": {
        "id": "5APmLfleH5Ur",
        "outputId": "3ed1273e-09ca-493c-8671-0dec88644b07",
        "colab": {
          "base_uri": "https://localhost:8080/"
        }
      },
      "source": [
        "stock_df.info"
      ],
      "execution_count": 4,
      "outputs": [
        {
          "output_type": "execute_result",
          "data": {
            "text/plain": [
              "<bound method DataFrame.info of                   High         Low  ...      Volume   Adj Close\n",
              "Date                                ...                        \n",
              "2015-01-05   66.750000   66.000000  ...   6295612.0   56.071495\n",
              "2015-01-06   65.750000   64.750000  ...  19501826.0   54.681293\n",
              "2015-01-07   65.250000   64.699997  ...   6991542.0   54.765541\n",
              "2015-01-08   66.599998   65.500000  ...  13153525.0   56.029366\n",
              "2015-01-09   66.949997   66.050003  ...   5891981.0   55.734478\n",
              "...                ...         ...  ...         ...         ...\n",
              "2020-10-28  105.500000  104.800003  ...   4669830.0  105.000000\n",
              "2020-10-29  104.099998  103.250000  ...   6954385.0  103.849998\n",
              "2020-10-30  103.599998  102.699997  ...   6432187.0  103.000000\n",
              "2020-11-02  103.449997  102.300003  ...  10063314.0  103.400002\n",
              "2020-11-03  104.849998  104.050003  ...   4312000.0  104.599998\n",
              "\n",
              "[1422 rows x 6 columns]>"
            ]
          },
          "metadata": {
            "tags": []
          },
          "execution_count": 4
        }
      ]
    },
    {
      "cell_type": "code",
      "metadata": {
        "id": "Dhlb3B2_H7sl",
        "outputId": "ddd44af4-2751-46d0-dae7-e0cd1a8217b1",
        "colab": {
          "base_uri": "https://localhost:8080/",
          "height": 294
        }
      },
      "source": [
        "stock_df['Adj Close'].plot()"
      ],
      "execution_count": 7,
      "outputs": [
        {
          "output_type": "execute_result",
          "data": {
            "text/plain": [
              "<matplotlib.axes._subplots.AxesSubplot at 0x7fc681575c50>"
            ]
          },
          "metadata": {
            "tags": []
          },
          "execution_count": 7
        },
        {
          "output_type": "display_data",
          "data": {
            "image/png": "[encoded data removed]",
            "text/plain": [
              "<Figure size 432x288 with 1 Axes>"
            ]
          },
          "metadata": {
            "tags": [],
            "needs_background": "light"
          }
        }
      ]
    },
    {
      "cell_type": "code",
      "metadata": {
        "id": "CvHoEu8CICIl"
      },
      "source": [
        ""
      ],
      "execution_count": null,
      "outputs": []
    }
  ]
}